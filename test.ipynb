{
 "cells": [
  {
   "cell_type": "code",
   "execution_count": 8,
   "metadata": {},
   "outputs": [
    {
     "data": {
      "text/plain": [
       "True"
      ]
     },
     "execution_count": 8,
     "metadata": {},
     "output_type": "execute_result"
    }
   ],
   "source": [
    "formulatedPattern=\"je suis aller au service\"\n",
    "entitySentence=formulatedPattern.split(\" \")\n",
    "all(entitySentence[5+1:]) not in [\"t\"]"
   ]
  },
  {
   "cell_type": "code",
   "execution_count": 2,
   "metadata": {},
   "outputs": [
    {
     "data": {
      "text/plain": [
       "'rt'"
      ]
     },
     "execution_count": 2,
     "metadata": {},
     "output_type": "execute_result"
    }
   ],
   "source": [
    "entitySentence = [\"t\",\"CLS\",\"er\",\"rt\",\"yu\"]\n",
    "def lastMatchBelong2EndBoundary(entitySentence , startCompt : int):\n",
    "        \n",
    "        if entitySentence [startCompt]== \"CLS\":\n",
    "            allMatchPossible = [item for item in entitySentence[startCompt+1 : ] if item in [\"er\",\"rt\"]]\n",
    "            return allMatchPossible[-1]\n",
    "            \n",
    "lastMatchBelong2EndBoundary(entitySentence , startCompt=1)\n",
    "\n",
    "     "
   ]
  }
 ],
 "metadata": {
  "kernelspec": {
   "display_name": "Python 3.10.6 ('lnitvenv')",
   "language": "python",
   "name": "python3"
  },
  "language_info": {
   "codemirror_mode": {
    "name": "ipython",
    "version": 3
   },
   "file_extension": ".py",
   "mimetype": "text/x-python",
   "name": "python",
   "nbconvert_exporter": "python",
   "pygments_lexer": "ipython3",
   "version": "3.10.6"
  },
  "orig_nbformat": 4,
  "vscode": {
   "interpreter": {
    "hash": "7da94f4bbe617fa706b25166a79bd1a71d6302505372ab0c4e237403f107a285"
   }
  }
 },
 "nbformat": 4,
 "nbformat_minor": 2
}
